{
 "cells": [
  {
   "cell_type": "markdown",
   "metadata": {},
   "source": [
    "\n",
    "# Classify Song Genres from Audio Data\n",
    "\n",
    "## Table of Contents\n",
    "<ul>\n",
    "<li><a href=\"#intro\">Introduction</a></li>\n",
    "<li><a href=\"#dp\">Data Preparing</a></li>\n",
    "<li><a href=\"#mt\">Model Training</a></li>\n",
    "<li><a href=\"#mv\">Model Validation</a></li>\n",
    "<li><a href=\"#me\">Model Evaluation</a></li>\n",
    "</ul>"
   ]
  },
  {
   "cell_type": "markdown",
   "metadata": {},
   "source": [
    "<a id='intro'></a>\n",
    "## Introduction\n",
    "\n",
    "<b style = color:#4682B4>These recommendations are so on point! How does this playlist know me so well?</b>\n",
    "\n",
    "<p>\n",
    "In the era of music streaming, the vast catalogs of services often leave users overwhelmed when seeking new music. To address this, streaming platforms analyze raw audio data to categorize songs and offer personalized recommendations. Using a dataset from The Echo Nest, we aim to classify songs as 'Hip-Hop' or 'Rock' without listening to them. Through data cleaning, exploratory visualization, and feature reduction, we'll employ machine learning techniques like decision trees and logistic regression to achieve this goal.</p>"
   ]
  },
  {
   "cell_type": "code",
   "execution_count": 320,
   "metadata": {},
   "outputs": [],
   "source": [
    "# Importing libraries\n",
    "import pandas as pd\n",
    "import numpy as np\n",
    "import matplotlib.pyplot as plt\n",
    "import seaborn as sns\n",
    "from sklearn.model_selection import train_test_split\n",
    "from sklearn.preprocessing import StandardScaler\n",
    "import matplotlib.pyplot as plt\n",
    "from sklearn.decomposition import PCA\n",
    "from sklearn.tree import DecisionTreeClassifier\n",
    "from sklearn.linear_model import LogisticRegression\n",
    "from sklearn.metrics import classification_report\n",
    "from sklearn.model_selection import KFold, cross_val_score\n",
    "from sklearn.pipeline import Pipeline"
   ]
  },
  {
   "cell_type": "markdown",
   "metadata": {},
   "source": [
    "<a id='dp'></a>\n",
    "## Data Preparing"
   ]
  },
  {
   "cell_type": "markdown",
   "metadata": {},
   "source": [
    "### 1. Loading the datase"
   ]
  },
  {
   "cell_type": "markdown",
   "metadata": {},
   "source": [
    "<p>Let's begin by loading metadata about our tracks and their metrics from The Echo Nest. Beyond titles and artists, we have additional musical features like danceability and acousticness in two files: one in CSV and the other in JSON format. Using pandas, we'll create two DataFrames for these files, merging them to have features and labels (x and y) for our classification task later on.</p>"
   ]
  },
  {
   "cell_type": "code",
   "execution_count": 321,
   "metadata": {},
   "outputs": [],
   "source": [
    "# Reading the tracks dataset with genel labels\n",
    "tracks = pd.read_csv(\"fma-rock-vs-hiphop.csv\")\n",
    "# Reading the track metrics with features\n",
    "metrics = pd.read_json(\"echonest-metrics.json\")"
   ]
  },
  {
   "cell_type": "code",
   "execution_count": 322,
   "metadata": {},
   "outputs": [
    {
     "data": {
      "text/html": [
       "<div>\n",
       "<style scoped>\n",
       "    .dataframe tbody tr th:only-of-type {\n",
       "        vertical-align: middle;\n",
       "    }\n",
       "\n",
       "    .dataframe tbody tr th {\n",
       "        vertical-align: top;\n",
       "    }\n",
       "\n",
       "    .dataframe thead th {\n",
       "        text-align: right;\n",
       "    }\n",
       "</style>\n",
       "<table border=\"1\" class=\"dataframe\">\n",
       "  <thead>\n",
       "    <tr style=\"text-align: right;\">\n",
       "      <th></th>\n",
       "      <th>track_id</th>\n",
       "      <th>bit_rate</th>\n",
       "      <th>comments</th>\n",
       "      <th>composer</th>\n",
       "      <th>date_created</th>\n",
       "      <th>date_recorded</th>\n",
       "      <th>duration</th>\n",
       "      <th>favorites</th>\n",
       "      <th>genre_top</th>\n",
       "      <th>genres</th>\n",
       "      <th>...</th>\n",
       "      <th>information</th>\n",
       "      <th>interest</th>\n",
       "      <th>language_code</th>\n",
       "      <th>license</th>\n",
       "      <th>listens</th>\n",
       "      <th>lyricist</th>\n",
       "      <th>number</th>\n",
       "      <th>publisher</th>\n",
       "      <th>tags</th>\n",
       "      <th>title</th>\n",
       "    </tr>\n",
       "  </thead>\n",
       "  <tbody>\n",
       "    <tr>\n",
       "      <th>0</th>\n",
       "      <td>135</td>\n",
       "      <td>256000</td>\n",
       "      <td>1</td>\n",
       "      <td>NaN</td>\n",
       "      <td>2008-11-26 01:43:26</td>\n",
       "      <td>2008-11-26 00:00:00</td>\n",
       "      <td>837</td>\n",
       "      <td>0</td>\n",
       "      <td>Rock</td>\n",
       "      <td>[45, 58]</td>\n",
       "      <td>...</td>\n",
       "      <td>NaN</td>\n",
       "      <td>2484</td>\n",
       "      <td>en</td>\n",
       "      <td>Attribution-NonCommercial-ShareAlike 3.0 Inter...</td>\n",
       "      <td>1832</td>\n",
       "      <td>NaN</td>\n",
       "      <td>0</td>\n",
       "      <td>NaN</td>\n",
       "      <td>[]</td>\n",
       "      <td>Father's Day</td>\n",
       "    </tr>\n",
       "    <tr>\n",
       "      <th>1</th>\n",
       "      <td>136</td>\n",
       "      <td>256000</td>\n",
       "      <td>1</td>\n",
       "      <td>NaN</td>\n",
       "      <td>2008-11-26 01:43:35</td>\n",
       "      <td>2008-11-26 00:00:00</td>\n",
       "      <td>509</td>\n",
       "      <td>0</td>\n",
       "      <td>Rock</td>\n",
       "      <td>[45, 58]</td>\n",
       "      <td>...</td>\n",
       "      <td>NaN</td>\n",
       "      <td>1948</td>\n",
       "      <td>en</td>\n",
       "      <td>Attribution-NonCommercial-ShareAlike 3.0 Inter...</td>\n",
       "      <td>1498</td>\n",
       "      <td>NaN</td>\n",
       "      <td>0</td>\n",
       "      <td>NaN</td>\n",
       "      <td>[]</td>\n",
       "      <td>Peel Back The Mountain Sky</td>\n",
       "    </tr>\n",
       "  </tbody>\n",
       "</table>\n",
       "<p>2 rows × 21 columns</p>\n",
       "</div>"
      ],
      "text/plain": [
       "   track_id  bit_rate  comments composer         date_created  \\\n",
       "0       135    256000         1      NaN  2008-11-26 01:43:26   \n",
       "1       136    256000         1      NaN  2008-11-26 01:43:35   \n",
       "\n",
       "         date_recorded  duration  favorites genre_top    genres  ...  \\\n",
       "0  2008-11-26 00:00:00       837          0      Rock  [45, 58]  ...   \n",
       "1  2008-11-26 00:00:00       509          0      Rock  [45, 58]  ...   \n",
       "\n",
       "  information interest  language_code  \\\n",
       "0         NaN     2484             en   \n",
       "1         NaN     1948             en   \n",
       "\n",
       "                                             license listens  lyricist number  \\\n",
       "0  Attribution-NonCommercial-ShareAlike 3.0 Inter...    1832       NaN      0   \n",
       "1  Attribution-NonCommercial-ShareAlike 3.0 Inter...    1498       NaN      0   \n",
       "\n",
       "   publisher tags                       title  \n",
       "0        NaN   []                Father's Day  \n",
       "1        NaN   []  Peel Back The Mountain Sky  \n",
       "\n",
       "[2 rows x 21 columns]"
      ]
     },
     "execution_count": 322,
     "metadata": {},
     "output_type": "execute_result"
    }
   ],
   "source": [
    "# Output the first 2 rows of the tracks\n",
    "tracks.head(2)"
   ]
  },
  {
   "cell_type": "code",
   "execution_count": 323,
   "metadata": {},
   "outputs": [
    {
     "data": {
      "text/html": [
       "<div>\n",
       "<style scoped>\n",
       "    .dataframe tbody tr th:only-of-type {\n",
       "        vertical-align: middle;\n",
       "    }\n",
       "\n",
       "    .dataframe tbody tr th {\n",
       "        vertical-align: top;\n",
       "    }\n",
       "\n",
       "    .dataframe thead th {\n",
       "        text-align: right;\n",
       "    }\n",
       "</style>\n",
       "<table border=\"1\" class=\"dataframe\">\n",
       "  <thead>\n",
       "    <tr style=\"text-align: right;\">\n",
       "      <th></th>\n",
       "      <th>track_id</th>\n",
       "      <th>acousticness</th>\n",
       "      <th>danceability</th>\n",
       "      <th>energy</th>\n",
       "      <th>instrumentalness</th>\n",
       "      <th>liveness</th>\n",
       "      <th>speechiness</th>\n",
       "      <th>tempo</th>\n",
       "      <th>valence</th>\n",
       "    </tr>\n",
       "  </thead>\n",
       "  <tbody>\n",
       "    <tr>\n",
       "      <th>0</th>\n",
       "      <td>2</td>\n",
       "      <td>0.416675</td>\n",
       "      <td>0.675894</td>\n",
       "      <td>0.634476</td>\n",
       "      <td>0.010628</td>\n",
       "      <td>0.177647</td>\n",
       "      <td>0.159310</td>\n",
       "      <td>165.922</td>\n",
       "      <td>0.576661</td>\n",
       "    </tr>\n",
       "    <tr>\n",
       "      <th>1</th>\n",
       "      <td>3</td>\n",
       "      <td>0.374408</td>\n",
       "      <td>0.528643</td>\n",
       "      <td>0.817461</td>\n",
       "      <td>0.001851</td>\n",
       "      <td>0.105880</td>\n",
       "      <td>0.461818</td>\n",
       "      <td>126.957</td>\n",
       "      <td>0.269240</td>\n",
       "    </tr>\n",
       "  </tbody>\n",
       "</table>\n",
       "</div>"
      ],
      "text/plain": [
       "   track_id  acousticness  danceability    energy  instrumentalness  liveness  \\\n",
       "0         2      0.416675      0.675894  0.634476          0.010628  0.177647   \n",
       "1         3      0.374408      0.528643  0.817461          0.001851  0.105880   \n",
       "\n",
       "   speechiness    tempo   valence  \n",
       "0     0.159310  165.922  0.576661  \n",
       "1     0.461818  126.957  0.269240  "
      ]
     },
     "execution_count": 323,
     "metadata": {},
     "output_type": "execute_result"
    }
   ],
   "source": [
    "# Output the first 2 rows of the metrics\n",
    "metrics.head(2) "
   ]
  },
  {
   "cell_type": "code",
   "execution_count": 324,
   "metadata": {},
   "outputs": [],
   "source": [
    "# Now we will merge the 2 datasets based on the 'track_id'\n",
    "df = pd.merge(metrics, tracks[['track_id', 'genre_top']], on='track_id')"
   ]
  },
  {
   "cell_type": "code",
   "execution_count": 325,
   "metadata": {},
   "outputs": [
    {
     "name": "stdout",
     "output_type": "stream",
     "text": [
      "<class 'pandas.core.frame.DataFrame'>\n",
      "RangeIndex: 4802 entries, 0 to 4801\n",
      "Data columns (total 10 columns):\n",
      " #   Column            Non-Null Count  Dtype  \n",
      "---  ------            --------------  -----  \n",
      " 0   track_id          4802 non-null   int64  \n",
      " 1   acousticness      4802 non-null   float64\n",
      " 2   danceability      4802 non-null   float64\n",
      " 3   energy            4802 non-null   float64\n",
      " 4   instrumentalness  4802 non-null   float64\n",
      " 5   liveness          4802 non-null   float64\n",
      " 6   speechiness       4802 non-null   float64\n",
      " 7   tempo             4802 non-null   float64\n",
      " 8   valence           4802 non-null   float64\n",
      " 9   genre_top         4802 non-null   object \n",
      "dtypes: float64(8), int64(1), object(1)\n",
      "memory usage: 375.3+ KB\n"
     ]
    },
    {
     "data": {
      "text/html": [
       "<div>\n",
       "<style scoped>\n",
       "    .dataframe tbody tr th:only-of-type {\n",
       "        vertical-align: middle;\n",
       "    }\n",
       "\n",
       "    .dataframe tbody tr th {\n",
       "        vertical-align: top;\n",
       "    }\n",
       "\n",
       "    .dataframe thead th {\n",
       "        text-align: right;\n",
       "    }\n",
       "</style>\n",
       "<table border=\"1\" class=\"dataframe\">\n",
       "  <thead>\n",
       "    <tr style=\"text-align: right;\">\n",
       "      <th></th>\n",
       "      <th>track_id</th>\n",
       "      <th>acousticness</th>\n",
       "      <th>danceability</th>\n",
       "      <th>energy</th>\n",
       "      <th>instrumentalness</th>\n",
       "      <th>liveness</th>\n",
       "      <th>speechiness</th>\n",
       "      <th>tempo</th>\n",
       "      <th>valence</th>\n",
       "      <th>genre_top</th>\n",
       "    </tr>\n",
       "  </thead>\n",
       "  <tbody>\n",
       "    <tr>\n",
       "      <th>0</th>\n",
       "      <td>2</td>\n",
       "      <td>0.416675</td>\n",
       "      <td>0.675894</td>\n",
       "      <td>0.634476</td>\n",
       "      <td>0.010628</td>\n",
       "      <td>0.177647</td>\n",
       "      <td>0.159310</td>\n",
       "      <td>165.922</td>\n",
       "      <td>0.576661</td>\n",
       "      <td>Hip-Hop</td>\n",
       "    </tr>\n",
       "    <tr>\n",
       "      <th>1</th>\n",
       "      <td>3</td>\n",
       "      <td>0.374408</td>\n",
       "      <td>0.528643</td>\n",
       "      <td>0.817461</td>\n",
       "      <td>0.001851</td>\n",
       "      <td>0.105880</td>\n",
       "      <td>0.461818</td>\n",
       "      <td>126.957</td>\n",
       "      <td>0.269240</td>\n",
       "      <td>Hip-Hop</td>\n",
       "    </tr>\n",
       "  </tbody>\n",
       "</table>\n",
       "</div>"
      ],
      "text/plain": [
       "   track_id  acousticness  danceability    energy  instrumentalness  liveness  \\\n",
       "0         2      0.416675      0.675894  0.634476          0.010628  0.177647   \n",
       "1         3      0.374408      0.528643  0.817461          0.001851  0.105880   \n",
       "\n",
       "   speechiness    tempo   valence genre_top  \n",
       "0     0.159310  165.922  0.576661   Hip-Hop  \n",
       "1     0.461818  126.957  0.269240   Hip-Hop  "
      ]
     },
     "execution_count": 325,
     "metadata": {},
     "output_type": "execute_result"
    }
   ],
   "source": [
    "# Output the summary of our merged dataset and the first 2 rows of it\n",
    "df.info()\n",
    "df.head(2)"
   ]
  },
  {
   "cell_type": "markdown",
   "metadata": {},
   "source": [
    "### 2. Relationships between continuous variables"
   ]
  },
  {
   "cell_type": "markdown",
   "metadata": {},
   "source": [
    "<p>The goal here to avoid using variables that hava strong correlations with each other to avoid <b style = color:#4682B4>feature redundancy</b></p>\n",
    "\n",
    "Why do we really do that???\n",
    "> ##### - To keep the model simple and improve interpretability\n",
    "> ##### - When the dataset is large, this will improve our computa"
   ]
  },
  {
   "cell_type": "code",
   "execution_count": 326,
   "metadata": {},
   "outputs": [
    {
     "data": {
      "image/png": "[encoded data removed]",
      "text/plain": [
       "<Figure size 640x480 with 2 Axes>"
      ]
     },
     "metadata": {},
     "output_type": "display_data"
    }
   ],
   "source": [
    "cor = df.corr(numeric_only=True)\n",
    "sns.heatmap(cor, cmap='coolwarm', annot=True, fmt=\".2f\", linewidths=.5)\n",
    "plt.show()\n",
    "\n",
    "# Positive correlations are represented by warmer colors (closer to 1), typically shades of red.\n",
    "# Negative correlations are represented by cooler colors (closer to -1), typically shades of blue.\n",
    "# A correlation of 0 is usually represented by a neutral color (often white or light gray)."
   ]
  },
  {
   "cell_type": "markdown",
   "metadata": {},
   "source": [
    "<p>We didn't find any particularly strong correlations between our features, so we will move to the next step</p>"
   ]
  },
  {
   "cell_type": "markdown",
   "metadata": {},
   "source": [
    "### 3. Splitting the data"
   ]
  },
  {
   "cell_type": "markdown",
   "metadata": {},
   "source": [
    "<p>Next, divide our dataset into two arrays: one containing the features and the other containing the labels (track genres). After this division, we'll proceed with preprocessing steps to enhance our model development.t.</p>"
   ]
  },
  {
   "cell_type": "code",
   "execution_count": 327,
   "metadata": {},
   "outputs": [],
   "source": [
    "# Drop the \"genre_top\" and \"track_id\" columns from the DataFrame and extract the values\n",
    "features = df.drop([\"genre_top\", \"track_id\"], axis=1).values\n",
    "# Extract the values of the \"genre_top\" column as labels\n",
    "labels = df[\"genre_top\"].values\n",
    "# Split the dataset into training and testing sets\n",
    "# The train_test_split function shuffles and splits the data into training and testing sets\n",
    "# The random_state parameter ensures reproducibilbzity of the split\n",
    "train_features, test_features, train_labels, test_labels = train_test_split(features, labels, random_state=10)"
   ]
  },
  {
   "cell_type": "markdown",
   "metadata": {},
   "source": [
    "### 4. Normalizing the feature data"
   ]
  },
  {
   "cell_type": "markdown",
   "metadata": {},
   "source": [
    "<p>Before proceeding, it's <b>essential</b> to standardize our training and testing features. Standardization, a widely used technique, involves transforming features to have a mean of 0 and a standard deviation of 1. This process, also known as obtaining z-scores, ensures uniform scaling across all features.</p>"
   ]
  },
  {
   "cell_type": "code",
   "execution_count": 328,
   "metadata": {},
   "outputs": [],
   "source": [
    "# Creates a StandardScaler object.\n",
    "scaler = StandardScaler()\n",
    "\n",
    "# Fits the scaler on the training features then transforms them\n",
    "scaled_train = scaler.fit_transform(train_features)\n",
    "# Note: This is to ensures that the training features are standardized\n",
    "\n",
    "# Applies the same transformation to the test features\n",
    "scaled_test = scaler.transform(test_features)"
   ]
  },
  {
   "cell_type": "markdown",
   "metadata": {},
   "source": [
    "### 5. PCA on our scaled data"
   ]
  },
  {
   "cell_type": "markdown",
   "metadata": {},
   "source": [
    "<p>To make our models simpler and more effective, we can use a technique called principal component analysis (PCA). This method helps us identify the most important features that explain the differences between music genres. Think of it like looking at the data from the best angle to understand it better.\n",
    "\n",
    "However, there's a catch. If a feature has a big range of values, it might have more impact on our analysis. PCA takes this into account, making sure each feature contributes fairly to the overall understanding, regardless of its range.</p>"
   ]
  },
  {
   "cell_type": "code",
   "execution_count": 329,
   "metadata": {},
   "outputs": [
    {
     "data": {
      "text/plain": [
       "Text(0.5, 0, 'Principal Component No.')"
      ]
     },
     "execution_count": 329,
     "metadata": {},
     "output_type": "execute_result"
    },
    {
     "data": {
      "image/png": "[encoded data removed]",
      "text/plain": [
       "<Figure size 640x480 with 1 Axes>"
      ]
     },
     "metadata": {},
     "output_type": "display_data"
    }
   ],
   "source": [
    "# Create a PCA object\n",
    "pca = PCA()\n",
    "\n",
    "# Fitting the model\n",
    "pca.fit(scaled_train)\n",
    "\n",
    "# Getting the Explained Variance Ratios for each PC\n",
    "# These ratios indicate the proportion of the dataset's \n",
    "# total variance that is explained by each PC\n",
    "exp_var = pca.explained_variance_ratio_\n",
    "\n",
    "# plot the explained variance using a barplot\n",
    "fig, a = plt.subplots()\n",
    "a.bar(range(pca.n_components_), exp_var)\n",
    "a.set_xlabel('Principal Component No.')"
   ]
  },
  {
   "cell_type": "markdown",
   "metadata": {},
   "source": [
    "<p>The explained variance ratio indicates the proportion of the total variance in the dataset that is explained by each principal component. <br> \n",
    "So here for example:</p>\n",
    "\n",
    "> ##### - PC1: Approximately 24% of the total variance is explained by the first principal component. \n",
    "> ##### - PC2: Approximately 18% of the tota...... \n",
    "\n",
    "And so on. <br> <br>\n",
    "Regrettably, the scree plot doesn't exhibit a distinct elbow, making it challenging to determine the optimal number of intrinsic dimensions through this approach. <br><Br>\n",
    "<p style = color:#4682B4>Note: The \"elbow\" in the scree plot of a principal component analysis (PCA) indicates the optimal number of principal components to retain, balancing explained variance and model simplicity.</p>"
   ]
  },
  {
   "cell_type": "markdown",
   "metadata": {},
   "source": [
    "### 6. More visualization of PCA"
   ]
  },
  {
   "cell_type": "markdown",
   "metadata": {},
   "source": [
    "<p>Since there is no distinct elbow in the scree plot, determining the optimal number of intrinsic dimensions using this method is not straightforward. Instead, we can turn to the cumulative explained variance plot, aiming to choose a number of features that account for a certain percentage (let's say 85% [a threshold]) of the total variance, thereby reducing the dimensionality of the data.</p>"
   ]
  },
  {
   "cell_type": "code",
   "execution_count": 330,
   "metadata": {},
   "outputs": [
    {
     "data": {
      "text/plain": [
       "<matplotlib.lines.Line2D at 0x1eaedaaed90>"
      ]
     },
     "execution_count": 330,
     "metadata": {},
     "output_type": "execute_result"
    },
    {
     "data": {
      "image/png": "[encoded data removed]",
      "text/plain": [
       "<Figure size 640x480 with 1 Axes>"
      ]
     },
     "metadata": {},
     "output_type": "display_data"
    }
   ],
   "source": [
    "# Computes the cumulative sum of the explained variance ratios obtained from the PC.\n",
    "cum_exp_var = np.cumsum(exp_var)\n",
    "\n",
    "# Creates a new figure and axis for plotting\n",
    "fig, ax = plt.subplots()\n",
    "\n",
    "# Plots the cumulative explained variance\n",
    "ax.plot(cum_exp_var)\n",
    "# Here each point on the plot represents the cumulative proportion of\n",
    "# total variance explained by including more PC.\n",
    "\n",
    "# Draws a dashed line at the 0.85 mark on the y-axis.\n",
    "ax.axhline(y=0.85, linestyle='--')\n",
    "# This line serves as a reference for identifying the point at which the \n",
    "# cumulative explained variance reaches or surpasses 85%.\n"
   ]
  },
  {
   "cell_type": "markdown",
   "metadata": {},
   "source": [
    "<p>The cumulative explained variance plot indicates that including approximately 6 PCs is sufficient to capture 85% of the total variance in the dataset. This suggests that a reduced set of 6 PCs retains a significant portion of the original dataset's variability, making it a <b style = color:#4682B4>reasonable</b> choice for dimensionality reduction.</p>"
   ]
  },
  {
   "cell_type": "markdown",
   "metadata": {},
   "source": [
    "### 7. Transforming onto our features"
   ]
  },
  {
   "cell_type": "markdown",
   "metadata": {},
   "source": [
    "<p>So, utilizing 6 components in PCA allows us to reduce the dimensionality of our training and testing features.</p>"
   ]
  },
  {
   "cell_type": "code",
   "execution_count": 331,
   "metadata": {},
   "outputs": [],
   "source": [
    "# Perform PCA with the chosen number of components and project data onto components\n",
    "pca = PCA(n_components=6, random_state=10)\n",
    "\n",
    "# Fit and transform the scaled training features using pca\n",
    "train_pca = pca.fit_transform(scaled_train)\n",
    "\n",
    "# Fit and transform the scaled test features using pca\n",
    "test_pca = pca.transform(scaled_test)"
   ]
  },
  {
   "cell_type": "markdown",
   "metadata": {},
   "source": [
    "<a id='mt'></a>\n",
    "## Models Training"
   ]
  },
  {
   "cell_type": "markdown",
   "metadata": {},
   "source": [
    "### 1. Train a Decision Tree Model"
   ]
  },
  {
   "cell_type": "markdown",
   "metadata": {},
   "source": [
    "<p>Now, we can use the simplified PCA projection to classify songs into genres, employing a decision tree algorithm. Decision trees, being rule-based classifiers, use a 'tree structure' of binary decisions to categorize data points. They are easy to use, interpret, and visualize, providing a 'logic flowchart' generated from the training data.</p>\n"
   ]
  },
  {
   "cell_type": "code",
   "execution_count": 332,
   "metadata": {},
   "outputs": [],
   "source": [
    "# Create a decision tree classifier object\n",
    "tree_classifier = DecisionTreeClassifier(random_state=10)\n",
    "\n",
    "# Train the classifier on the train_pca\n",
    "tree_classifier.fit(train_pca, train_labels)\n",
    "\n",
    "# After training, the decision tree is used to predict the labels for the test data\n",
    "pred_tree = tree_classifier.predict(test_pca)"
   ]
  },
  {
   "cell_type": "markdown",
   "metadata": {},
   "source": [
    "### 2. Train a Logistic Regression Model"
   ]
  },
  {
   "cell_type": "markdown",
   "metadata": {},
   "source": [
    "<p>It's important to explore different models as the current one might not be the best fit. Introducing logistic regression, which uses the logistic function for probability calculation, allows us to compare models based on metrics like false positives and false negatives to evaluate their performance and accuracy.</p>"
   ]
  },
  {
   "cell_type": "code",
   "execution_count": 333,
   "metadata": {},
   "outputs": [],
   "source": [
    "# Creates a logistic regression model object\n",
    "logreg = LogisticRegression(random_state=10)\n",
    "\n",
    "# Train the model on the train_pca\n",
    "logreg.fit(train_pca, train_labels)\n",
    "\n",
    "# After training, the logistic regression model is used to predict the labels for the test data\n",
    "pred_logit = logreg.predict(test_pca)"
   ]
  },
  {
   "cell_type": "markdown",
   "metadata": {},
   "source": [
    "<a id='mv'></a>\n",
    "## Model Validation"
   ]
  },
  {
   "cell_type": "markdown",
   "metadata": {},
   "source": [
    "### 1. Comparing the models"
   ]
  },
  {
   "cell_type": "code",
   "execution_count": 334,
   "metadata": {},
   "outputs": [
    {
     "name": "stdout",
     "output_type": "stream",
     "text": [
      "Decision Tree: \n",
      "               precision    recall  f1-score   support\n",
      "\n",
      "     Hip-Hop       0.63      0.62      0.62       235\n",
      "        Rock       0.91      0.91      0.91       966\n",
      "\n",
      "    accuracy                           0.85      1201\n",
      "   macro avg       0.77      0.77      0.77      1201\n",
      "weighted avg       0.85      0.85      0.85      1201\n",
      "\n",
      "Logistic Regression: \n",
      "               precision    recall  f1-score   support\n",
      "\n",
      "     Hip-Hop       0.77      0.54      0.64       235\n",
      "        Rock       0.90      0.96      0.93       966\n",
      "\n",
      "    accuracy                           0.88      1201\n",
      "   macro avg       0.83      0.75      0.78      1201\n",
      "weighted avg       0.87      0.88      0.87      1201\n",
      "\n"
     ]
    }
   ],
   "source": [
    "# Here we want to generate classification reports for evaluating the performance of our models using \n",
    "# the actual and predicted labels from the test set\n",
    "rep_tree = classification_report(test_labels, pred_tree)\n",
    "rep_log = classification_report(test_labels, pred_logit)\n",
    "\n",
    "# Printing the reports\n",
    "print(\"Decision Tree: \\n\", rep_tree)\n",
    "print(\"Logistic Regression: \\n\", rep_log)"
   ]
  },
  {
   "cell_type": "markdown",
   "metadata": {},
   "source": [
    "<p>Both models are doing well. However, when we look closely at the results, we see that rock songs are mostly identified correctly, but hip-hop songs are often mistakenly labeled as rock. This could be because we have a lot more rock songs in our data, making it harder for the models to tell them apart. Essentially, our models are mostly good at recognizing rock songs, but not as great at identifying hip-hop songs, and that's not ideal.</p>"
   ]
  },
  {
   "cell_type": "markdown",
   "metadata": {},
   "source": [
    "### 2. Balancing The data"
   ]
  },
  {
   "cell_type": "markdown",
   "metadata": {},
   "source": [
    "<p>To fix this issue, we can give more importance to accurately classifying the less common type of music (Hip-Hop) by adjusting our evaluation criteria. This ensures that our model's performance isn't overly influenced by the larger number of Rock songs, and we aim for balanced accuracy between the two music genres.</p>"
   ]
  },
  {
   "cell_type": "code",
   "execution_count": 335,
   "metadata": {},
   "outputs": [],
   "source": [
    "# Select rows where genre is 'Hip-Hop'\n",
    "hip = df.loc[df['genre_top'] == 'Hip-Hop']\n",
    "\n",
    "# Select a random sample of rows where genre is 'Rock' with the same length as 'Hip-Hop'\n",
    "temp_rock = df.loc[df['genre_top'] == 'Rock']\n",
    "hip_length = hip.shape[0]\n",
    "rock = temp_rock.sample(hip_length, random_state=10)\n",
    "\n",
    "# Concatenate the 'Rock' and 'Hip-Hop' samples to create a new balanced dataset\n",
    "rock_hop = pd.concat([rock, hip])\n",
    "\n",
    "# Extract features and labels\n",
    "features = rock_hop.drop(['genre_top', 'track_id'], axis=1) \n",
    "labels = rock_hop['genre_top']\n",
    "\n",
    "# Split the data into training and testing sets\n",
    "train_features, test_features, train_labels, test_labels = train_test_split(features, labels, random_state=10)\n",
    "\n",
    "# Apply PCA and scaling to the training and testing features\n",
    "train_pca = pca.fit_transform(scaler.fit_transform(train_features))\n",
    "test_pca = pca.transform(scaler.transform(test_features))"
   ]
  },
  {
   "cell_type": "markdown",
   "metadata": {},
   "source": [
    "<p>After balancing the dataset there are few things to keep in mind:</p>\n",
    "\n",
    "> 1- Concerns about Data Loss\n",
    ">>  Acknowledges that by balancing the dataset, some data points were removed, and these points could be valuable for training the models.\n",
    "\n",
    "> 2- Testing Model Bias\n",
    ">> Proposes testing to see if the balancing process improves bias in the models toward the \"Rock\" classification.\n",
    ">> \n",
    ">> Implies that the initial dataset might have had a bias toward one class (potentially \"Hip-Hop\"), and balancing aims to address this.\n",
    "\n",
    "> 3- Decision on Dimensionality Reduction\n",
    ">> For this analysis, dimensionality reduction won't be applied, as the dataset size has already been reduced, and the focus is on evaluating the impact of balancing.\n",
    "\n",
    "\n",
    "<p  style = color:#4682B4>Note: Dimensionality reduction is usually considered more rigorously when dealing with very large datasets or when computational constraints become a limiting factor.</p>"
   ]
  },
  {
   "cell_type": "markdown",
   "metadata": {},
   "source": [
    "### 3. Retrain The models"
   ]
  },
  {
   "cell_type": "code",
   "execution_count": 336,
   "metadata": {},
   "outputs": [
    {
     "name": "stdout",
     "output_type": "stream",
     "text": [
      "Decision Tree: \n",
      "               precision    recall  f1-score   support\n",
      "\n",
      "     Hip-Hop       0.82      0.77      0.79       230\n",
      "        Rock       0.78      0.82      0.80       225\n",
      "\n",
      "    accuracy                           0.80       455\n",
      "   macro avg       0.80      0.80      0.80       455\n",
      "weighted avg       0.80      0.80      0.80       455\n",
      "\n",
      "Logistic Regression: \n",
      "               precision    recall  f1-score   support\n",
      "\n",
      "     Hip-Hop       0.84      0.80      0.82       230\n",
      "        Rock       0.81      0.85      0.83       225\n",
      "\n",
      "    accuracy                           0.82       455\n",
      "   macro avg       0.82      0.82      0.82       455\n",
      "weighted avg       0.83      0.82      0.82       455\n",
      "\n"
     ]
    }
   ],
   "source": [
    "# Train our decision tree on the balanced data\n",
    "tree = DecisionTreeClassifier(random_state=10)\n",
    "tree.fit(train_pca, train_labels)\n",
    "pred_tree = tree.predict(test_pca)\n",
    "\n",
    "# Train our logistic regression on the balanced data\n",
    "logreg = LogisticRegression(random_state=10)\n",
    "logreg.fit(train_pca, train_labels)\n",
    "pred_logit = logreg.predict(test_pca)\n",
    "\n",
    "# compare the models\n",
    "print(\"Decision Tree: \\n\", classification_report(test_labels, pred_tree))\n",
    "print(\"Logistic Regression: \\n\", classification_report(test_labels, pred_logit))"
   ]
  },
  {
   "cell_type": "markdown",
   "metadata": {},
   "source": [
    "<b  style = color:#DA2C43>Achievement unlocked! Balancing our dataset successfully eliminated bias towards the more commonly occurring class.</b>"
   ]
  },
  {
   "cell_type": "markdown",
   "metadata": {},
   "source": [
    "<a id='me'></a>\n",
    "## Model Evaluation"
   ]
  },
  {
   "cell_type": "markdown",
   "metadata": {},
   "source": [
    "### 1. Cross-Validation to evaluate the models"
   ]
  },
  {
   "cell_type": "markdown",
   "metadata": {},
   "source": [
    "<p>To make sure our models are performing well, we're using a technique called cross-validation (CV). This method helps us compare different models more accurately. <br>\n",
    "\n",
    "Here's how it works: We create pipelines to prepare our data and set up our models. Then, instead of just one train-test split, we divide our data into K equal parts. We train and test our models multiple times, each time using a different part as the test set. Finally, we gather all the results to get an overall performance score for our models.</p>"
   ]
  },
  {
   "cell_type": "code",
   "execution_count": 337,
   "metadata": {},
   "outputs": [
    {
     "name": "stdout",
     "output_type": "stream",
     "text": [
      "Decision Tree: 75.82% | Logistic Regression: 78.30%\n"
     ]
    }
   ],
   "source": [
    "# Create a pipeline for Decision Tree classifier\n",
    "t_pipe = Pipeline([\n",
    "    (\"scaler\", StandardScaler()),          # Standardize features\n",
    "    (\"pca\", PCA(n_components=6)),          # Apply PCA for dimensionality reduction\n",
    "    (\"tree\", DecisionTreeClassifier(random_state=10))  # Decision Tree Classifier\n",
    "])\n",
    "\n",
    "# Create a pipeline for Logistic Regression classifier\n",
    "l_pipe = Pipeline([\n",
    "    (\"scaler\", StandardScaler()),                # Standardize features\n",
    "    (\"pca\", PCA(n_components=6)),                # Apply PCA for dimensionality reduction\n",
    "    (\"logreg\", LogisticRegression(random_state=10))  # Logistic Regression Classifier\n",
    "])\n",
    "\n",
    "# Set up K-fold cross-validation with 10 folds\n",
    "kf = KFold(10)\n",
    "\n",
    "# Train Decision Tree and Logistic Regression models using KFold cross-validation\n",
    "t_score = cross_val_score(t_pipe, features, labels, cv=kf)\n",
    "l_score = cross_val_score(l_pipe, features, labels, cv=kf)\n",
    "\n",
    "# Print the mean accuracy of each model\n",
    "print(f\"Decision Tree: {np.mean(t_score):.2%} | Logistic Regression: {np.mean(l_score):.2%}\")"
   ]
  },
  {
   "cell_type": "markdown",
   "metadata": {},
   "source": [
    ">  Decision Tree\n",
    ">> On average, the Decision Tree model correctly predicted the genre of a track approximately 75.82% of the time during cross-validation.\n",
    "\n",
    "> Logistic Regression\n",
    ">> On average, the Logistic Regression model achieved an accuracy of about 78.30% during cross-validation."
   ]
  },
  {
   "cell_type": "markdown",
   "metadata": {},
   "source": [
    "<p style = color:#6f402b>Comparing the two, the <b>Logistic Regression model</b> appears to have a slightly <b>higher mean accuracy</b>, suggesting it performed slightly better on average during the cross-validation process.</p>"
   ]
  }
 ],
 "metadata": {
  "kernelspec": {
   "display_name": "Python 3 (ipykernel)",
   "language": "python",
   "name": "python3"
  },
  "language_info": {
   "codemirror_mode": {
    "name": "ipython",
    "version": 3
   },
   "file_extension": ".py",
   "mimetype": "text/x-python",
   "name": "python",
   "nbconvert_exporter": "python",
   "pygments_lexer": "ipython3",
   "version": "3.11.5"
  }
 },
 "nbformat": 4,
 "nbformat_minor": 4
}
